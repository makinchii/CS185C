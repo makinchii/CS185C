{
 "cells": [
  {
   "cell_type": "markdown",
   "id": "ae587e5d-ad7d-42ad-9ca7-d064e2ef5f2f",
   "metadata": {},
   "source": [
    "# Homework 7: An MITgcm Tutorial Experiment\n",
    "\n",
    "Name: \n",
    "\n",
    "Date: \n",
    "\n",
    "#### Overview\n",
    "In class, we walked through the MITgcm tutorial for the barotropic gyre. In this homework, you'll work through another experiment - the `tutorial_global_oce_latlon` configuration. \n",
    "\n",
    "Documentation for this tutorial is additionally provided on the MITgcm documentation page [HERE](https://mitgcm.readthedocs.io/en/latest/examples/global_oce_latlon/global_oce_latlon.html).\n",
    "\n",
    "Before beginning, import Python modules for manging and plotting data, and define a path to the model directory on your machine:"
   ]
  },
  {
   "cell_type": "code",
   "execution_count": 2,
   "id": "e3f065c8-4852-442d-818e-587dc02f845b",
   "metadata": {},
   "outputs": [],
   "source": [
    "# import pertinent modules\n",
    "import os\n",
    "import numpy as np\n",
    "import matplotlib.pyplot as plt\n",
    "\n",
    "# define a path to the model directory\n",
    "model_dir = ''"
   ]
  },
  {
   "cell_type": "markdown",
   "id": "45a0908f-c425-472a-9e3b-7ae0985fb41b",
   "metadata": {},
   "source": [
    "### Part 1: Plot the model bathymetry\n",
    "One good way to examine the construction of a model is to plot the bathymetry. The bathymetry for this model is stored in the `input/bathymetry.bin` file. Create a plot of the bathymetry below. Be sure to label your axes and give the plot a colorbar with a sensible color map.\n",
    "\n",
    "Hint: The grid is stored as a 2D grid with `float32` precision. Look at the `SIZE.h` file to determine the grid shape. "
   ]
  },
  {
   "cell_type": "markdown",
   "id": "34234ea7",
   "metadata": {},
   "source": []
  },
  {
   "cell_type": "code",
   "execution_count": 8,
   "id": "ef4398a7-a676-4605-8df1-2a999ab7dcce",
   "metadata": {},
   "outputs": [],
   "source": [
    "\n",
    "# read in the model bathymetry file and reshape to the grid dimensions\n",
    "\n",
    "# make a plot of the bathymetry\n"
   ]
  },
  {
   "cell_type": "markdown",
   "id": "1cb79dc8-5d71-4126-b851-3af0c3a44027",
   "metadata": {},
   "source": [
    "### Part 2: Compile the Model\n",
    "Next, compile the model on your machine. \n",
    "\n",
    "Before you begin your compilation, make two changes to the files in the code directory:\n",
    "1. In the packages.conf file, remove the lines for `mnc`, `timeave`, and `ptracers` and add a new line for `diagnostics`.\n",
    "2. Remove the scripts `ptracers*.F` from the code directory.\n",
    "2. Add the `DIAGNOSTICS_SIZE.h` file provided with this notebook.\n",
    "\n",
    "Once you make these changes, compile the model code.\n",
    "\n",
    "Refer to the class example or the [Getting Started with MITgcm](https://profmikewood.github.io/ocean_modeling_book/mitgcm/getting_started_with_MITgcm.html) section of the course notes for help."
   ]
  },
  {
   "cell_type": "markdown",
   "id": "29dfd485-7853-4668-8a04-4d9cef4a48f3",
   "metadata": {},
   "source": [
    "#### Question:\n",
    "How many CPUs will this model use on your machine?\n",
    "\n",
    "Answer: *Enter your answer here*"
   ]
  },
  {
   "cell_type": "markdown",
   "id": "2dcc0f5b",
   "metadata": {},
   "source": [
    "### Part 3: Run the Model\n",
    "After your compilation is complete, run the model in the `run` directory. \n",
    "\n",
    "Before running this model, make the following updates to the default tutorial:\n",
    "1. In the `data` file, change `nIter=0` to `nIter=70080` and place the the `pickup.0000070080.data`, `pickup.0000070080.meta`, `pickup_cd.0000070080.data` and `pickup_cd.0000070080.meta` files provided with this notebook in your run directory. This will allow you to start the model after it has already been run for several decades.\n",
    "2. Update the model timesteps to run for a duration of one year. Implement this change by looking in the `data` file to determine the number of seconds for each model timesteps (`deltaTClock`). Then, compute how many timesteps will be needed to run the model for one year by determining how many seconds are in one year (365 days) and dividing by the timestep. Then, update the timesteps on the line `nTimesteps=...,` in the `data` file.\n",
    "3. In the `data` file, add a new line for `useSingleCpuIO=.TRUE.,` in the `PARM01` section just below the line that says `readBinaryPrec=32,`.\n",
    "4. In the `data` file, in `PARM03`, update the following three lines as follows:\n",
    "```\n",
    " pChkptFreq= 31536000.,\n",
    "# dumpFreq=   864000.,\n",
    "# taveFreq=   864000.,\n",
    "```\n",
    "   Note that the comment indicators (`#`) must be in the first column.\n",
    "   \n",
    "5. Add the `data.diagnostics` file provided with this notebook into your run directory. This will request the model to output monthly averages of temperature (`THETA`), salinity (`SALT`), zonal velocity (`UVEL`), and meridional velocity (`VVEL`).\n",
    "6. In the file `data.pkg`, remove the line for `usePTRACERS=.TRUE.,` and add a new line for `useDIAGNOSTICS=.TRUE.,`.\n",
    "\n",
    "After making these changes, run the model. \n",
    "\n",
    "Again, you can refer to the class example or the [Getting Started with MITgcm](https://profmikewood.github.io/ocean_modeling_book/mitgcm/getting_started_with_MITgcm.html) section of the course notes for help."
   ]
  },
  {
   "cell_type": "markdown",
   "id": "ffdfdf66",
   "metadata": {},
   "source": [
    "#### Questions:\n",
    "\n",
    "1. What is the model timestep in seconds? days?\n",
    "2. How many timesteps are required to run the model for one year?\n",
    "\n",
    "Answers: *Enter your answers here*"
   ]
  },
  {
   "cell_type": "markdown",
   "id": "1e0ac1a8-e32b-47f5-b490-136ccdc39100",
   "metadata": {},
   "source": [
    "### Part 4: Assess the Model Results\n",
    "Upon successful completion of your model run, you should have the following files: `THETA.0000070445.data`, `SALT.0000070445.data`, `UVEL.0000070445.data`, and `VVEL.0000070445.data`. These files contain the surface fields for temperature, salinity, zonal velocity, and meridional velocity in the month of December. \n",
    "\n",
    "Read these files into four separate grids and make a 2x2 set of subplots showing the surface temperature, salinity, zonal velocity, and meridional velocity simulated by the model. "
   ]
  },
  {
   "cell_type": "code",
   "execution_count": null,
   "id": "9409e850-415d-4dab-b967-eeab25f928e9",
   "metadata": {},
   "outputs": [],
   "source": [
    "# read in the data from files into grids for theta, salt, uvel, and vvel\n",
    "\n"
   ]
  },
  {
   "cell_type": "code",
   "execution_count": null,
   "id": "c68b73fd-14e3-4b1b-bf6e-d34bfbd2143a",
   "metadata": {},
   "outputs": [],
   "source": [
    "# make the 2x2 plot here\n",
    "\n"
   ]
  },
  {
   "cell_type": "markdown",
   "id": "8329303f-7dd3-4989-b6ec-c5f2df7f4c0d",
   "metadata": {},
   "source": [
    "#### Questions\n",
    "\n",
    "How do these fields compare to those from Lecture 2-1 and Homework 2? What features are consistent between the models? What features are different? Identify at least two real oceanographic features simulated in this simple model of the ocean.\n",
    "\n",
    "Answer: *Enter you answer here*"
   ]
  }
 ],
 "metadata": {
  "kernelspec": {
   "display_name": "cs185c",
   "language": "python",
   "name": "python3"
  },
  "language_info": {
   "codemirror_mode": {
    "name": "ipython",
    "version": 3
   },
   "file_extension": ".py",
   "mimetype": "text/x-python",
   "name": "python",
   "nbconvert_exporter": "python",
   "pygments_lexer": "ipython3",
   "version": "3.11.9"
  }
 },
 "nbformat": 4,
 "nbformat_minor": 5
}
