{
 "cells": [
  {
   "cell_type": "markdown",
   "id": "9dc175c8-f744-4655-9037-b313c486c951",
   "metadata": {},
   "source": [
    "# Analyzing the Differences Between Models\n",
    "\n",
    "This notebook serves to answer the question that underlies the design of An's Tonkin Gulf Model.\n",
    "\n",
    "The question is: What role do winds and precipitation play in an enclosed area like the Tonkin Gulf, where oceanic waves aren't as prevalant?\n",
    "\n",
    "First, import packages to re-create and visualize the model fields here:"
   ]
  },
  {
   "cell_type": "code",
   "execution_count": 1,
   "id": "836f57c0-6983-48ce-b8a0-31c5b04463a7",
   "metadata": {},
   "outputs": [],
   "source": [
    "import os\n",
    "import numpy as np\n",
    "import matplotlib.pyplot as plt\n",
    "from matplotlib.gridspec import GridSpec\n",
    "from matplotlib.patches import Rectangle\n",
    "import moviepy.video.io.ImageSequenceClip\n",
    "import cmocean.cm as cm\n",
    "from datetime import datetime, timedelta"
   ]
  },
  {
   "cell_type": "markdown",
   "id": "9ea649be-1868-47e6-a895-1cf4b03d5cdf",
   "metadata": {},
   "source": [
    "Next, define the location of the project directory for the model:"
   ]
  },
  {
   "cell_type": "code",
   "execution_count": 2,
   "id": "08d8f138-1542-4af2-845e-ab0acad86dec",
   "metadata": {},
   "outputs": [],
   "source": [
    "# define the project directory\n",
    "project_dir = 'C:\\\\Users\\\\azure\\\\Documents\\\\CS185C\\\\project'"
   ]
  },
  {
   "cell_type": "markdown",
   "id": "2d2f3fc0-4085-4662-8948-8640dba9f9c1",
   "metadata": {},
   "source": [
    "Additionally define the location of the data files:"
   ]
  },
  {
   "cell_type": "code",
   "execution_count": 3,
   "id": "89fb98fe-db1e-44da-a677-a315e03d5cce",
   "metadata": {},
   "outputs": [],
   "source": [
    "run_dir = 'C:\\\\Users\\\\azure\\\\Documents\\\\CS185C\\\\project\\\\run\\\\diags'\n",
    "zero_dir = 'C:\\\\Users\\\\azure\\\\Documents\\\\CS185C\\\\project\\\\run\\\\diags_zero'"
   ]
  },
  {
   "cell_type": "markdown",
   "id": "49731d1b-529f-470f-974a-a32b3a8c59ac",
   "metadata": {},
   "source": [
    "Then, re-create the model grid"
   ]
  },
  {
   "cell_type": "code",
   "execution_count": 4,
   "id": "e05b4415-bbe3-4aea-92a2-cdfe6910c41c",
   "metadata": {},
   "outputs": [],
   "source": [
    "delX = 1/40\n",
    "delY = 1/40\n",
    "xgOrigin = 105.5\n",
    "ygOrigin = 18.5\n",
    "nrows = 140\n",
    "ncols = 180\n",
    "\n",
    "\n",
    "# recreate the grids that will be used in the model\n",
    "xc = np.arange(xgOrigin+delX/2, xgOrigin+ncols*delX, delX)\n",
    "yc = np.arange(ygOrigin+delY/2, ygOrigin+nrows*delY, delY)\n",
    "XC, YC = np.meshgrid(xc, yc)"
   ]
  },
  {
   "cell_type": "markdown",
   "id": "4d2f3545-cc2a-4109-b7a0-716b5c968a56",
   "metadata": {},
   "source": [
    "To assess the differences between the control model and the model ran without wind, I will create movies that showcase the difference between the two models, allowing viewers to understand at a glance the difference. First, define the plot directory:"
   ]
  },
  {
   "cell_type": "code",
   "execution_count": 5,
   "id": "35f55266-8219-4b27-b88a-cb51b74e3fff",
   "metadata": {},
   "outputs": [],
   "source": [
    "plot_dir = 'C:\\\\Users\\\\azure\\\\Documents\\\\CS185C\\\\project\\\\plots'"
   ]
  },
  {
   "cell_type": "code",
   "execution_count": 6,
   "id": "716ece12-66e3-445c-bbc8-7df8000a1848",
   "metadata": {},
   "outputs": [],
   "source": [
    "plot_dict = {\n",
    "    'ETAN':    [-0.05,   0.05,   cm.balance, 'm'],\n",
    "    'THETA':   [-2, 2,   cm.balance, '°C'],\n",
    "    'SALT':    [-0.10, 0.10 ,   cm.balance,  'PSU'],\n",
    "    'MXLDEPTH':[ -5, 5,   cm.balance,    'm'],\n",
    "    'UVEL':    [-1,   1,   cm.balance, 'm/s'],\n",
    "    'VVEL':    [-1,   1,   cm.balance, 'm/s'],\n",
    "}\n",
    "\n",
    "# provide file names for diags\n",
    "dir_meta = {\n",
    "    'EtaN_day_snap':      {'var':'ETAN',      'num_slices':1, 'slice_idx':0},\n",
    "    'EtaN_mon_mean':      {'var':'ETAN',      'num_slices':1, 'slice_idx':0},\n",
    "    'vel_3D_mon_snap':    {'var':'VEL',       'num_slices':2, 'slice_idx':None},\n",
    "    'TS_3D_mon_mean':     {'var':'TS',        'num_slices':2, 'slice_idx':None},\n",
    "    'TS_surf_daily_mean': {'var':'TS',        'num_slices':2, 'slice_idx':None},\n",
    "    'MXLDEPTH_day_snap':  {'var':'MXLDEPTH',  'num_slices':1, 'slice_idx':0},\n",
    "    'MXLDEPTH_mon_mean':  {'var':'MXLDEPTH',  'num_slices':1, 'slice_idx':0},\n",
    "}"
   ]
  },
  {
   "cell_type": "code",
   "execution_count": 7,
   "id": "d55d248b-5c51-4d7f-b805-1611650a6d12",
   "metadata": {},
   "outputs": [],
   "source": [
    "def plot_diff_panel(run_directory,plot_dir, file_name ,zero_directory):\n",
    "\n",
    "    subdir = os.path.basename(run_directory)\n",
    "    meta   = dir_meta[subdir]\n",
    "    nslice = meta['num_slices']\n",
    "    var    = meta['var']\n",
    "\n",
    "    def read_grid(directory):\n",
    "        raw = np.fromfile(os.path.join(directory, file_name), dtype='>f4')\n",
    "        ntot = raw.size\n",
    "        base = nslice * nrows * ncols\n",
    "        if ntot == base:\n",
    "            return raw.reshape((nslice, nrows, ncols))\n",
    "        else:\n",
    "            assert ntot % base == 0, f\"Can't reshape {ntot}\"\n",
    "            nextra = ntot // base\n",
    "            return raw.reshape((nslice, nextra, nrows, ncols))\n",
    "\n",
    "    # load both\n",
    "    grid_run  = read_grid(run_directory)\n",
    "    grid_zero = read_grid(zero_directory)\n",
    "\n",
    "    # compute the difference\n",
    "    grid_diff = grid_run - grid_zero\n",
    "\n",
    "    # timestep for the time-bar\n",
    "    timestep_number = int(file_name.split('.')[-2])\n",
    "    max_timestep_number = int(366*24*60*60/30)\n",
    "\n",
    "    # make figure & single‐column gridspec\n",
    "    fig = plt.figure(figsize=(7, 8))\n",
    "    gs  = GridSpec(11, 10, left=0.1, right=0.98, bottom=0.06, top=0.95, hspace=0.05)\n",
    "\n",
    "    # collapse a 4-D to 3-D for single‐slice vars & TS\n",
    "    if var != 'TS_3D' and grid_diff.ndim == 4:\n",
    "        lvl        = meta.get('slice_idx', 0) or 0\n",
    "        grid_diff  = grid_diff[:, lvl, :, :]  # now (nslice, nrows, ncols)\n",
    "\n",
    "   # --- plot the difference panels ---\n",
    "    if var == 'TS':\n",
    "        # Surface Temperature & Salinity diffs\n",
    "        # — Temperature —\n",
    "        ax1 = fig.add_subplot(gs[:4, :])\n",
    "        vmin, vmax, cmap, units = plot_dict['THETA']\n",
    "        C1 = ax1.pcolormesh(\n",
    "            XC[:, :-1], YC[:, :-1],\n",
    "            grid_diff[0, :, :-1],\n",
    "            vmin=vmin, vmax=vmax, cmap=cmap\n",
    "        )\n",
    "        plt.colorbar(C1, ax=ax1, label=f'ΔTemperature ({units})')\n",
    "        ax1.set_title('ΔSurface Temperature')\n",
    "        ax1.set_ylabel('Latitude')\n",
    "        ax1.set_xlabel('Longitude')\n",
    "    \n",
    "        # — Salinity —\n",
    "        ax2 = fig.add_subplot(gs[5:9, :])\n",
    "        vmin, vmax, cmap, units = plot_dict['SALT']\n",
    "        C2 = ax2.pcolormesh(\n",
    "            XC[:, :-1], YC[:, :-1],\n",
    "            grid_diff[1, :, :-1],\n",
    "            vmin=vmin, vmax=vmax, cmap=cmap\n",
    "        )\n",
    "        plt.colorbar(C2, ax=ax2, label=f'ΔSalinity ({units})')\n",
    "        ax2.set_title('ΔSurface Salinity')\n",
    "        ax2.set_ylabel('Latitude')\n",
    "        ax2.set_xlabel('Longitude')\n",
    "    \n",
    "        last_ax = ax2\n",
    "    \n",
    "    elif var == 'TS_3D':\n",
    "        # 3-D TS: pick the requested level\n",
    "        lvl = meta.get('slice_idx', 0) or 0\n",
    "    \n",
    "        # — Temperature at level —\n",
    "        ax1 = fig.add_subplot(gs[:4, :])\n",
    "        vmin, vmax, cmap, units = plot_dict['THETA']\n",
    "        C1 = ax1.pcolormesh(\n",
    "            XC[:, :-1], YC[:, :-1],\n",
    "            grid_diff[0, lvl, :, :-1],\n",
    "            vmin=vmin, vmax=vmax, cmap=cmap\n",
    "        )\n",
    "        plt.colorbar(C1, ax=ax1, label=f'ΔTemperature ({units})')\n",
    "        ax1.set_title(f'ΔTemperature (level {lvl})')\n",
    "        ax1.set_ylabel('Latitude')\n",
    "        ax1.set_xlabel('Longitude')\n",
    "    \n",
    "        # — Salinity at level —\n",
    "        ax2 = fig.add_subplot(gs[5:9, :])\n",
    "        vmin, vmax, cmap, units = plot_dict['SALT']\n",
    "        C2 = ax2.pcolormesh(\n",
    "            XC[:, :-1], YC[:, :-1],\n",
    "            grid_diff[1, lvl, :, :-1],\n",
    "            vmin=vmin, vmax=vmax, cmap=cmap\n",
    "        )\n",
    "        plt.colorbar(C2, ax=ax2, label=f'ΔSalinity ({units})')\n",
    "        ax2.set_title(f'ΔSalinity (level {lvl})')\n",
    "        ax2.set_ylabel('Latitude')\n",
    "        ax2.set_xlabel('Longitude')\n",
    "    \n",
    "        last_ax = ax2\n",
    "\n",
    "    elif var == 'VEL':\n",
    "        u2d = grid_diff[0, :, :-1]\n",
    "        v2d = grid_diff[1, :, :-1]\n",
    "\n",
    "        ax1 = fig.add_subplot(gs[:4, :])\n",
    "        vmin, vmax, cmap, units = plot_dict['UVEL']\n",
    "        C1 = ax1.pcolormesh(\n",
    "            XC[:, :-1], YC[:, :-1], u2d,\n",
    "            vmin=vmin, vmax=vmax, cmap=cmap\n",
    "        )\n",
    "        plt.colorbar(C1, ax=ax1, label=f'ΔU Velocity ({units})')\n",
    "        ax1.set_title('ΔU Velocity')\n",
    "        ax1.set_ylabel('Latitude')\n",
    "\n",
    "        ax = fig.add_subplot(gs[5:9, :])\n",
    "        vmin, vmax, cmap, units = plot_dict['VVEL']\n",
    "        C2 = ax.pcolormesh(\n",
    "            XC[:, :-1], YC[:, :-1], v2d,\n",
    "            vmin=vmin, vmax=vmax, cmap=cmap\n",
    "        )\n",
    "        plt.colorbar(C2, ax=ax, label=f'ΔV Velocity ({units})')\n",
    "        ax.set_title('ΔV Velocity')\n",
    "        ax.set_ylabel('Latitude')\n",
    "        ax.set_xlabel('Longitude')\n",
    "\n",
    "    else:\n",
    "        ax = fig.add_subplot(gs[:-2, :])\n",
    "        slice_idx = meta['slice_idx'] if meta['slice_idx'] is not None else 0\n",
    "        vmin, vmax, cmap, units = plot_dict[var]\n",
    "        C = ax.pcolormesh(\n",
    "            XC[:, :-1], YC[:, :-1],\n",
    "            grid_diff[slice_idx, :, :-1],\n",
    "            vmin=vmin, vmax=vmax, cmap=cmap\n",
    "        )\n",
    "        plt.colorbar(C, ax=ax, label=f'Δ{var} ({units})')\n",
    "        ax.set_title(f'Δ{var} - {subdir}')\n",
    "        ax.set_ylabel('Latitude')\n",
    "        ax.set_xlabel('Longitude')\n",
    "\n",
    "    # add the time-bar\n",
    "    ax_time = fig.add_subplot(gs[-1, :-2])\n",
    "    rect    = Rectangle((0, 0), timestep_number, 1, facecolor='grey', edgecolor='k')\n",
    "    ax_time.add_patch(rect)\n",
    "    ax_time.set_xlim([0, max_timestep_number])\n",
    "    ax_time.set_ylim([0, 1])\n",
    "    ax_time.set_xticks([0, max_timestep_number])\n",
    "    ax_time.set_xticklabels([2004, 2005])\n",
    "    ax_time.set_yticklabels([])\n",
    "    ax_time.set_xlabel('Time')\n",
    "\n",
    "    # save out\n",
    "    panels_dir = os.path.join(plot_dir, 'diff_panels', var, subdir)\n",
    "    os.makedirs(panels_dir, exist_ok=True)\n",
    "    outname = f\"{file_name[:-5]}_diff.png\"\n",
    "    fig.savefig(os.path.join(panels_dir, outname), facecolor='white')\n",
    "    plt.close(fig)"
   ]
  },
  {
   "cell_type": "markdown",
   "id": "bf0b759b-12d6-4b58-86cf-ac147a6b8ad0",
   "metadata": {},
   "source": [
    "Use the below function to plot all variables and the differences between them."
   ]
  },
  {
   "cell_type": "code",
   "execution_count": 8,
   "id": "a829dd57-a15e-4931-9f1b-65bd76d4eb0c",
   "metadata": {},
   "outputs": [],
   "source": [
    "def plot_all(run_dir, plot_dir, zero_dir=None):\n",
    "    for sub in sorted(os.listdir(run_dir)):\n",
    "        run_subpath = os.path.join(run_dir, sub)\n",
    "        print(run_subpath)\n",
    "        if not os.path.isdir(run_subpath):\n",
    "            continue\n",
    "            \n",
    "        # Check if the corresponding directory exists in zero_dir\n",
    "        zero_subpath = None\n",
    "        if zero_dir and os.path.exists(os.path.join(zero_dir, sub)):\n",
    "            zero_subpath = os.path.join(zero_dir, sub)\n",
    "            \n",
    "        for fname in sorted(os.listdir(run_subpath)):\n",
    "            if not fname.endswith('.data'):\n",
    "                continue\n",
    "                \n",
    "            # Make sure the file exists in both directories if we're doing a comparison\n",
    "            if zero_subpath and not os.path.exists(os.path.join(zero_subpath, fname)):\n",
    "                print(f\"Warning: File {fname} not found in zero directory. Skipping comparison.\")\n",
    "                plot_diff_panel(run_subpath, plot_dir, fname)  # Plot run_dir only\n",
    "            else:\n",
    "                # Call plot_panel with appropriate arguments\n",
    "                plot_diff_panel(run_subpath, plot_dir, fname, zero_subpath)"
   ]
  },
  {
   "cell_type": "markdown",
   "id": "32fdb525-bbf4-4ad9-abd4-89116eb32694",
   "metadata": {},
   "source": [
    "Stitch the panels that we create into a movie for later viewing, and to animate the differences through time."
   ]
  },
  {
   "cell_type": "code",
   "execution_count": 9,
   "id": "9e1b7e19-a603-4f3a-8997-feb91000d473",
   "metadata": {},
   "outputs": [],
   "source": [
    "def create_movies(plot_dir, fps=5):\n",
    "    \n",
    "    diff_dir = os.path.join(plot_dir, 'diff_panels')\n",
    "    if not os.path.isdir(diff_dir):\n",
    "        print(f\"Error: diff_panels directory not found at {diff_dir}\")\n",
    "        return\n",
    "\n",
    "    # ensure movies output directory exists\n",
    "    movies_dir = os.path.join(plot_dir, 'movies')\n",
    "    os.makedirs(movies_dir, exist_ok=True)\n",
    "\n",
    "    for var_name in sorted(os.listdir(diff_dir)):\n",
    "        var_path = os.path.join(diff_dir, var_name)\n",
    "        if not os.path.isdir(var_path):\n",
    "            continue\n",
    "\n",
    "        for diag_name in sorted(os.listdir(var_path)):\n",
    "            diag_path = os.path.join(var_path, diag_name)\n",
    "            if not os.path.isdir(diag_path):\n",
    "                continue\n",
    "\n",
    "            # collect all diff PNG frames\n",
    "            frames = [\n",
    "                os.path.join(diag_path, f)\n",
    "                for f in sorted(os.listdir(diag_path))\n",
    "                if f.endswith('.png')\n",
    "            ]\n",
    "            create_movie(frames, plot_dir, var_name, diag_name, fps)\n",
    "\n",
    "def create_movie(panel_list, plot_dir, var_name, diag_name, fps):\n",
    "\n",
    "    variable_descriptive_names = {\n",
    "    'ETAN':    'Sea Surface Height',\n",
    "    'THETA':   'Temperature',\n",
    "    'SALT':    'Salinity',\n",
    "    'MXLDEPTH':'Mixed Layer Depth',\n",
    "    'VEL':     'Current Velocity',\n",
    "    'TS':      'Temperature & Salinity'\n",
    "    }\n",
    "    \n",
    "    diagnostic_descriptive_names = {\n",
    "    'EtaN_day_snap':      'Daily Snapshot',\n",
    "    'EtaN_mon_mean':      'Monthly Mean',\n",
    "    'vel_3D_mon_snap':    '3D Monthly Velocity Snapshot',\n",
    "    'TS_3D_mon_mean':     '3D Monthly TS Mean',\n",
    "    'TS_surf_daily_mean': 'Surface TS Daily Mean',\n",
    "    'MXLDEPTH_day_snap':  'Daily MLD Snapshot',\n",
    "    'MXLDEPTH_mon_mean':  'Monthly MLD Mean'\n",
    "    }\n",
    "\n",
    "    nframes = len(panel_list)\n",
    "    if nframes < 2:\n",
    "        print(f\"Skipping {var_name}/{diag_name}: only {nframes} frame(s)\")\n",
    "        return\n",
    "\n",
    "    # build human-readable title (for logging)\n",
    "    var_desc  = variable_descriptive_names.get(var_name, var_name)\n",
    "    diag_desc = diagnostic_descriptive_names.get(diag_name, diag_name)\n",
    "    print(f\"Creating difference movie for {var_desc} {diag_desc} ({nframes} frames)\")\n",
    "\n",
    "    # construct output path\n",
    "    movies_dir = os.path.join(plot_dir, 'movies','Difference Movies')\n",
    "    movie_name = f\"{var_name}_{diag_name}_diff.mp4\"\n",
    "    out_path   = os.path.join(movies_dir, movie_name)\n",
    "\n",
    "    # build and write the movie\n",
    "    clip = moviepy.video.io.ImageSequenceClip.ImageSequenceClip(panel_list, fps=fps)\n",
    "    clip.write_videofile(out_path, verbose=False, logger=None)\n",
    "    print(f\"Saved → {out_path}\")"
   ]
  },
  {
   "cell_type": "markdown",
   "id": "740d26f8-8199-4834-8e00-df8cd192d729",
   "metadata": {},
   "source": [
    "Run the methods below to generate movies of the differences. Uncomment to use."
   ]
  },
  {
   "cell_type": "code",
   "execution_count": 10,
   "id": "f0856217-983d-4d87-91e5-37338476da5b",
   "metadata": {},
   "outputs": [],
   "source": [
    "#plot_all(run_dir, plot_dir, zero_dir)\n",
    "#create_movies(plot_dir, 5)"
   ]
  },
  {
   "cell_type": "markdown",
   "id": "94c737e8-1343-428f-a808-dd15348b7c2e",
   "metadata": {},
   "source": [
    "## Make a timeseries\n",
    "Next we can see how the differences between the models is evolving through time. For this example, I'll choose a point in the domain near the coast as in my previous notebook:"
   ]
  },
  {
   "cell_type": "code",
   "execution_count": 11,
   "id": "6c40b8ad-a55e-4e19-926e-052d00c45c02",
   "metadata": {},
   "outputs": [],
   "source": [
    "row = 100\n",
    "col = 100"
   ]
  },
  {
   "cell_type": "markdown",
   "id": "de0fb82e-7ec8-46d4-847b-df08b0f307cd",
   "metadata": {},
   "source": [
    "Next, I'll define a quick function to convert my iteration numbers to date and time information."
   ]
  },
  {
   "cell_type": "code",
   "execution_count": 12,
   "id": "3c878cd0-d1ee-4dc6-938c-69b2d45f46aa",
   "metadata": {},
   "outputs": [],
   "source": [
    "def iter_number_to_date(iter_number,seconds_per_iter=30):\n",
    "    total_seconds = iter_number*seconds_per_iter\n",
    "    date = datetime(2004,1,15) + timedelta(seconds=total_seconds)\n",
    "    return(date)"
   ]
  },
  {
   "cell_type": "markdown",
   "id": "0ca21d89-12f8-4f53-95c7-9de6cb49d20b",
   "metadata": {},
   "source": [
    "Then, I'll loop through all of the output files to generate a timeseries:"
   ]
  },
  {
   "cell_type": "code",
   "execution_count": 13,
   "id": "ac9839c9-2f1c-4b22-944c-718553075eca",
   "metadata": {},
   "outputs": [],
   "source": [
    "timestep_dates = []\n",
    "theta_wind_values = []\n",
    "theta_no_wind_values = []\n",
    "for file_name in sorted(os.listdir(os.path.join(project_dir,'run','diags','TS_surf_daily_mean'))):\n",
    "    if file_name[-4:]=='data':\n",
    "        # get the timestep number\n",
    "        timestep_number = int(file_name.split('.')[-2])\n",
    "        timestep_dates.append(iter_number_to_date(timestep_number))\n",
    "\n",
    "        # read in the grid with the wind\n",
    "        grid_wind = np.fromfile(os.path.join(project_dir,'run','diags',\n",
    "                                             'TS_surf_daily_mean',\n",
    "                                             file_name), '>f4')\n",
    "        grid_wind = grid_wind.reshape((2,nrows,ncols))\n",
    "        \n",
    "        # read in the grid without the wind\n",
    "        grid_no_wind = np.fromfile(os.path.join(project_dir,'run','diags_zero',\n",
    "                                             'TS_surf_daily_mean',\n",
    "                                             file_name), '>f4')\n",
    "        grid_no_wind = grid_no_wind.reshape((2,nrows,ncols))\n",
    "\n",
    "        theta_wind_values.append(grid_wind[0,row,col])\n",
    "        theta_no_wind_values.append(grid_no_wind[0,row,col])"
   ]
  },
  {
   "cell_type": "markdown",
   "id": "4e73028c-4fc6-4d6d-8d5d-667c7a1dd9b2",
   "metadata": {},
   "source": [
    "Finally, I'll plot the timeseries to see the comparison:"
   ]
  },
  {
   "cell_type": "code",
   "execution_count": 14,
   "id": "0d63430a-47fd-4346-9ced-3e2559c03ff5",
   "metadata": {},
   "outputs": [
    {
     "data": {
      "image/png": "[encoded data removed]",
      "text/plain": [
       "<Figure size 640x480 with 1 Axes>"
      ]
     },
     "metadata": {},
     "output_type": "display_data"
    }
   ],
   "source": [
    "plt.plot(timestep_dates, theta_wind_values,'b-',label='With Wind')\n",
    "plt.plot(timestep_dates, theta_no_wind_values,'r-',label='No Wind')\n",
    "plt.ylabel('Temperature ($^{\\circ}$C)')\n",
    "plt.xlabel('Model timestep')\n",
    "plt.legend()\n",
    "plt.grid(linestyle='--',linewidth=0.5)\n",
    "plt.show()"
   ]
  },
  {
   "cell_type": "markdown",
   "id": "c7c7cce5-b205-42e1-8332-f56cc75d4380",
   "metadata": {},
   "source": [
    "In this model, issues occured where the model quickly fizzled out. Since the only data that was mostly coming into the model was the boundary conditions, which are the same for both runs, this ended up in the two having nearly indistinguishable data, which resulted in most of the difference movies being 0 for the majority of the time. For some reason, once the model entered 2005, then there were some differences, which I am unable to explain."
   ]
  }
 ],
 "metadata": {
  "kernelspec": {
   "display_name": "Python 3 (ipykernel)",
   "language": "python",
   "name": "python3"
  },
  "language_info": {
   "codemirror_mode": {
    "name": "ipython",
    "version": 3
   },
   "file_extension": ".py",
   "mimetype": "text/x-python",
   "name": "python",
   "nbconvert_exporter": "python",
   "pygments_lexer": "ipython3",
   "version": "3.11.11"
  }
 },
 "nbformat": 4,
 "nbformat_minor": 5
}
