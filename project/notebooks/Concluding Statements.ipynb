{
 "cells": [
  {
   "cell_type": "markdown",
   "id": "dde9cca0-07fd-4209-a871-97e516b79323",
   "metadata": {},
   "source": [
    "# Concluding Statements\n",
    "\n",
    "This notebook is primarily meant for last thoughts and acknowledging the shortcomings of the experiment. There is no code to be ran in this notebook.\n",
    "\n",
    "Going into this experiment, I initially hypothesized that the lack of wind and rain in an enclosed oceanic environment like the Tonkin Gulf would have resulted in higher temperatures, less stratification, lower ocean velocity, and higher salinity, all of which are directly influenced by wind and rain.\n",
    "\n",
    "There were several issues with the model that prevented me from being able to support or disprove my hypothesis however. The most significant of which was that the model seemed to fizzle out after only a few timesteps, leading the model to be unable to provide an accurate depiction of oceanic conditions. Despite me choosing what I believe was a timestep (30 seconds, down from 60 seconds) appropriate for the grid spacing (1/40th of a degree), the model still faced instability.\n",
    "\n",
    "It is possible that the timestep is not the primary cause of the instability, but I wasn't able to diagnose the true cause of the instability.\n",
    "\n",
    "After running the model and comparing the two diagnostics while plotting the differences, it was clear to see that my experiment did not aid in proving my hypothesis. \n",
    "\n",
    "According to the movies in the 'Difference Movie' directory, the models didn't experience any change whatsoever between them until 2025 (i.e. the graph was completely 0 because the data was exactly the same). I believe this is because after the model fizzled out, the only data used by the model came from the boundary conditions, of which the two models share the same, which would explain why the data was essentially the same.\n",
    "\n",
    "Peculiarily, it seemed that once the model entered 2005, differences did begin to appear between the models, despite the fact that the model was still fizzled out essentially. You can verify this by checking the last frames of the movies, the difference movies have one to a few frames where there is a visible difference.\n",
    "\n",
    "\n",
    "Despite the model's inability to accurately represent oceanic processes with and without wind or rain, I did learn a lot about modeling data and analyzing it, and I still do believe that my hypothesis would have been correct had the model ran ideally."
   ]
  },
  {
   "cell_type": "code",
   "execution_count": null,
   "id": "1b5c0b7d-309f-403b-8c75-6e0ce0f00d0f",
   "metadata": {},
   "outputs": [],
   "source": []
  }
 ],
 "metadata": {
  "kernelspec": {
   "display_name": "Python 3 (ipykernel)",
   "language": "python",
   "name": "python3"
  },
  "language_info": {
   "codemirror_mode": {
    "name": "ipython",
    "version": 3
   },
   "file_extension": ".py",
   "mimetype": "text/x-python",
   "name": "python",
   "nbconvert_exporter": "python",
   "pygments_lexer": "ipython3",
   "version": "3.11.11"
  }
 },
 "nbformat": 4,
 "nbformat_minor": 5
}
