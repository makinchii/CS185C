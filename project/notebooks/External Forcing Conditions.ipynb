{
 "cells": [
  {
   "cell_type": "markdown",
   "id": "9dc175c8-f744-4655-9037-b313c486c951",
   "metadata": {},
   "source": [
    "# Creating the External Forcing Conditions\n",
    "\n",
    "This notebook provides an example for creating external forcing conditions in a regional model. The example in this notebook is for the external forcing conditions that will be used in Mike's California regional model..\n",
    "\n",
    "First, import packages to re-create and visualize the model fields here:"
   ]
  },
  {
   "cell_type": "code",
   "execution_count": null,
   "id": "836f57c0-6983-48ce-b8a0-31c5b04463a7",
   "metadata": {},
   "outputs": [],
   "source": [
    "import os\n",
    "import numpy as np\n",
    "from scipy.interpolate import griddata\n",
    "import matplotlib.pyplot as plt\n",
    "from matplotlib.gridspec import GridSpec\n",
    "import netCDF4 as nc4\n",
    "import cmocean.cm as cm"
   ]
  },
  {
   "cell_type": "markdown",
   "id": "9ea649be-1868-47e6-a895-1cf4b03d5cdf",
   "metadata": {},
   "source": [
    "Next, define the location of the input directory for the model. This is the same directory that holds the bathymetry file and the initial conditions file generated in the previous notebooks for this model example."
   ]
  },
  {
   "cell_type": "code",
   "execution_count": null,
   "id": "08d8f138-1542-4af2-845e-ab0acad86dec",
   "metadata": {},
   "outputs": [],
   "source": [
    "# define the input directory\n",
    "input_dir = ''"
   ]
  },
  {
   "cell_type": "markdown",
   "id": "5ea43d2c-8106-4b7e-9d71-dda71ff556e4",
   "metadata": {},
   "source": [
    "## External Forcing Source Files\n",
    "For this example, I will use the external forcing fields from the ECCO Version 5 state estimate. I will prepare these fields in 5 steps:\n",
    "1. download 7 external forcing fields used in the ECCO model\n",
    "2. read the external forcing fields used in the ECCO model as well as the ECCO grid\n",
    "3. read in the bathymetry for my model as well as its grid\n",
    "4. interpolate the ECCO fields onto my model grid and store each as a binary file\n",
    "5. plot the interpolated fields to ensure they look as expected"
   ]
  },
  {
   "cell_type": "markdown",
   "id": "7c5328af-a028-439b-a89a-4f39b72a9a65",
   "metadata": {},
   "source": [
    "### Step 1: Download the ECCO external forcing fields\n",
    "To begin, download the ECCO external forcing fields used in the ECCO Version 5 Alpha state estimate. These fields are available [HERE](https://ecco.jpl.nasa.gov/drive/files/Version5/Alpha/era_xx). For my model, I downloaded the following list of files for my year of interest (2008):\n",
    "| Variable | File Name |\n",
    "| -------- | --------- |\n",
    "|ATEMP|EIG_tmp2m_degC_plus_ECCO_v4r1_ctrl|\n",
    "|AQH|EIG_spfh2m_plus_ECCO_v4r1_ctrl|\n",
    "|SWDOWN|EIG_dsw_plus_ECCO_v4r1_ctrl|\n",
    "|LWDOWN|EIG_dlw_plus_ECCO_v4r1_ctrl|\n",
    "|UWIND|EIG_u10m|\n",
    "|VWIND|EIG_v10m|\n",
    "|PRECIP|EIG_rain_plus_ECCO_v4r1_ctrl|\n",
    "\n",
    "Define the location where these grids are stored:"
   ]
  },
  {
   "cell_type": "code",
   "execution_count": null,
   "id": "34d9856c-ec0b-4f6e-9f9c-c18a73cd6858",
   "metadata": {},
   "outputs": [],
   "source": [
    "data_folder = ''"
   ]
  },
  {
   "cell_type": "markdown",
   "id": "d170a9e7-8862-4e25-b732-1268f2c77c5a",
   "metadata": {},
   "source": [
    "### Step 2: Read in the external forcing fields\n",
    "To read in the ECCO fields, I will rely on the `exf` module from the `eccoseas` package. I import them here:"
   ]
  },
  {
   "cell_type": "code",
   "execution_count": null,
   "id": "a5d18072-c8a6-425f-a5f6-75dc2ffc43f3",
   "metadata": {},
   "outputs": [],
   "source": [
    "from eccoseas.ecco import exf"
   ]
  },
  {
   "cell_type": "markdown",
   "id": "b0d95203-b433-4322-87d9-d4e10880d7bf",
   "metadata": {},
   "source": [
    "Next, I will loop through all of the files I downloaded, reading them in with the `exf` module."
   ]
  },
  {
   "cell_type": "code",
   "execution_count": null,
   "id": "4dbb96e5-bef6-4307-a5b3-f4441a930f3b",
   "metadata": {},
   "outputs": [],
   "source": [
    "# make a file dictionary to loop over\n",
    "file_prefix_dict = {'ATEMP':'EIG_tmp2m_degC_plus_ECCO_v4r1_ctrl',\n",
    "             'AQH':'EIG_spfh2m_plus_ECCO_v4r1_ctrl',\n",
    "             'SWDOWN':'EIG_dsw_plus_ECCO_v4r1_ctrl',\n",
    "             'LWDOWN':'EIG_dlw_plus_ECCO_v4r1_ctrl',\n",
    "             'UWIND':'EIG_u10m',\n",
    "             'VWIND':'EIG_v10m',\n",
    "             'PRECIP':'EIG_rain_plus_ECCO_v4r1_ctrl'}\n",
    "\n",
    "# short list for testing\n",
    "variable_names = ['ATEMP']\n",
    "\n",
    "# full list - uncomment after testing\n",
    "# variable_names = list(file_prefix_dict.keys())"
   ]
  },
  {
   "cell_type": "code",
   "execution_count": null,
   "id": "a2ddb49e-c1e7-430c-8de5-4bf1177ef203",
   "metadata": {},
   "outputs": [],
   "source": [
    "# make a list to hold all of the exf grid\n",
    "exf_grids = []\n",
    "year=2008\n",
    "\n",
    "# loop through each variable to read in the grid\n",
    "for field in variable_names:\n",
    "    exf_lon, exf_lat, exf_grid = exf.read_ecco_exf_file(data_folder, file_prefix_dict[field], year)\n",
    "    exf_grids.append(exf_grid)"
   ]
  },
  {
   "cell_type": "markdown",
   "id": "45591a82-2920-4d1a-88cb-e8c26e2e1e4d",
   "metadata": {},
   "source": [
    "With an eye toward the interpolation that will come in step 4, I will make 2D grids of longitudes and latitudes to use in the interpolation"
   ]
  },
  {
   "cell_type": "code",
   "execution_count": null,
   "id": "a925b6ec-93ab-429b-a830-d6591b15a327",
   "metadata": {},
   "outputs": [],
   "source": [
    "Exf_Lon, Exf_Lat = np.meshgrid(exf_lon, exf_lat)\n",
    "ecco_points = np.column_stack([Exf_Lon.ravel(), Exf_Lat.ravel()])"
   ]
  },
  {
   "cell_type": "markdown",
   "id": "e7b56a47-0f03-4939-ba51-2b943be5547b",
   "metadata": {},
   "source": [
    "In addition, I will make a mask to determine where the interpolation will take place. Since the external forcing conditions are provided everywhere, I just set the entire grid to 1:"
   ]
  },
  {
   "cell_type": "code",
   "execution_count": null,
   "id": "b21c742e-e65a-49b7-b81f-f579b9dead52",
   "metadata": {},
   "outputs": [],
   "source": [
    "ecco_mask = np.ones((np.size(Exf_Lon),))"
   ]
  },
  {
   "cell_type": "markdown",
   "id": "64a135ac-a5bb-4766-83b5-60039dcc0c56",
   "metadata": {},
   "source": [
    "### Step 3: Read in the Model Grid\n",
    "Next, I will recreate the grid I will use in my model and read in the bathymetry file (see previous notebooks for details):"
   ]
  },
  {
   "cell_type": "code",
   "execution_count": null,
   "id": "f48b8cc3-eb40-40c3-b61e-1359d986109d",
   "metadata": {},
   "outputs": [],
   "source": [
    "# define the parameters that will be used in the data file\n",
    "delX = 1/12\n",
    "delY = 1/16\n",
    "xgOrigin = -135\n",
    "ygOrigin = 29\n",
    "n_rows = 360\n",
    "n_cols = 240\n",
    "\n",
    "# recreate the grids that will be used in the model\n",
    "xc = np.arange(xgOrigin+delX/2, xgOrigin+n_cols*delX, delX)\n",
    "yc = np.arange(ygOrigin+delY/2, ygOrigin+n_rows*delY+delY/2, delY)\n",
    "XC, YC = np.meshgrid(xc, yc)\n",
    "\n",
    "# read in the bathymetry file\n",
    "bathy = np.fromfile(os.path.join(input_dir,'CA_bathymetry.bin'),'>f4').reshape(np.shape(XC))"
   ]
  },
  {
   "cell_type": "markdown",
   "id": "9fd8e15a-b056-4c97-86b1-c3eb4c5e020c",
   "metadata": {},
   "source": [
    "Similar to above, I will make a mask to determine where the interpolatation will take place. I will create this mask using the `hFac` module from the `eccoseas` package: "
   ]
  },
  {
   "cell_type": "code",
   "execution_count": null,
   "id": "088d4f4e-52b9-4ec4-b416-d033a4f94633",
   "metadata": {},
   "outputs": [],
   "source": [
    "from eccoseas.downscale import hFac"
   ]
  },
  {
   "cell_type": "code",
   "execution_count": null,
   "id": "a5f9cf36-029c-431c-b2f0-5fe80a139c64",
   "metadata": {},
   "outputs": [],
   "source": [
    "surface_mask = hFac.create_surface_hFacC_grid(bathy, delR=1)"
   ]
  },
  {
   "cell_type": "markdown",
   "id": "8601f994-42b7-4840-8da4-73f98c9269f4",
   "metadata": {},
   "source": [
    "To double check the mask was created as expected, I will plot it in comparison to the bathymetry here:"
   ]
  },
  {
   "cell_type": "code",
   "execution_count": null,
   "id": "3eea1cb2-e29e-49c8-befe-eba9e857244e",
   "metadata": {},
   "outputs": [],
   "source": [
    "plt.figure(figsize=(10,5))\n",
    "\n",
    "plt.subplot(1,2,1)\n",
    "C = plt.pcolormesh(XC, YC, bathy, vmin=-5000, vmax=0, cmap='Blues_r')\n",
    "plt.colorbar(C, orientation = 'horizontal')\n",
    "plt.title('Model Bathymetry')\n",
    "\n",
    "plt.subplot(1,2,2)\n",
    "C = plt.pcolormesh(XC, YC, surface_mask, vmin=0, vmax=1, cmap='Greys')\n",
    "plt.colorbar(C, orientation = 'horizontal')\n",
    "plt.title('Surface Mask')\n",
    "\n",
    "plt.show()"
   ]
  },
  {
   "cell_type": "markdown",
   "id": "c8e32043-a3a3-49df-a724-de2be9f98708",
   "metadata": {},
   "source": [
    "### Step 4: Interpolate the Fields onto the Model Grid\n",
    "Next, I will interpolate the ECCO external fields I read in onto my model domain. I will use the `horizonal` module from the `eccoseas` package to accomplish this interpolation."
   ]
  },
  {
   "cell_type": "code",
   "execution_count": null,
   "id": "6a15f228-d61d-4a42-9714-ed5037711b19",
   "metadata": {},
   "outputs": [],
   "source": [
    "from eccoseas.downscale import horizontal"
   ]
  },
  {
   "cell_type": "markdown",
   "id": "b278d463-4f1f-4167-a616-2eeda2a28859",
   "metadata": {},
   "source": [
    "#### &#x2757; Warning\n",
    "This code block may take a while to run. Further, it will generate 7 files sized ~500MB. Plan accordingly."
   ]
  },
  {
   "cell_type": "code",
   "execution_count": null,
   "id": "78d6198e-5c80-49e0-b336-b691f70c8ab7",
   "metadata": {},
   "outputs": [],
   "source": [
    "# ensure the output folder exists\n",
    "if 'exf' not in os.listdir(input_dir):\n",
    "    os.mkdir(os.path.join(input_dir, 'exf'))"
   ]
  },
  {
   "cell_type": "code",
   "execution_count": null,
   "id": "d0aae164-a3f8-470b-a973-7f7ddffdcef1",
   "metadata": {},
   "outputs": [],
   "source": [
    "# loop through each variable and corresponding ECCO grid\n",
    "for variable_name, exf_grid in zip(variable_names, exf_grids):\n",
    "\n",
    "    # print a message to keep track of which variable we are working on\n",
    "    # uncomment to use\n",
    "    # print('    - Interpolating the '+variable_name+' grid')\n",
    "\n",
    "    # create a grid of zeros to fill in\n",
    "    interpolated_grid = np.zeros((np.shape(exf_grid)[0], np.shape(XC)[0], np.shape(XC)[1]))\n",
    "\n",
    "    # loop through each timestep to generate the interpolated grid\n",
    "    for timestep in range(1):#np.shape(exf_grid)[0]): # uncomment for testing\n",
    "\n",
    "        # print a message every 100 timesteps to show where we are in the stack\n",
    "        # uncomment to use\n",
    "        # if timestep%100==0:\n",
    "        #     print('        - Working on timestep '+str(timestep)+' of '+str(np.shape(interpolated_grid)[0]))\n",
    "\n",
    "        # grab the values for this timestep and run the interpolation function\n",
    "        ecco_values = exf_grid[timestep, :, :].ravel()\n",
    "        interp_timestep = horizontal.downscale_2D_points_with_zeros(ecco_points, ecco_values, ecco_mask,\n",
    "                                                                    XC, YC, surface_mask)\n",
    "        interpolated_grid[timestep,:,:] = interp_timestep\n",
    "\n",
    "    # convert ECCO values to MITgcm defaults\n",
    "    if variable_name=='ATEMP':\n",
    "        interpolated_grid += 273.15\n",
    "    if variable_name in ['SWDOWN','LWDOWN']:\n",
    "        interpolated_grid *=-1\n",
    "\n",
    "    # output the interpolated grid\n",
    "    output_file = os.path.join(input_dir,'exf',variable_name+'_'+str(year))\n",
    "    interpolated_grid.ravel('C').astype('>f4').tofile(output_file)"
   ]
  },
  {
   "cell_type": "markdown",
   "id": "efe30ee2-7b83-498d-813c-9b9ea152ed6f",
   "metadata": {},
   "source": [
    "### Step 5: Plotting the External Forcing Fields\n",
    "Now that the fields have been generated, I will plot them to ensure they look as expected. First, I'll generate some metadata for each one:"
   ]
  },
  {
   "cell_type": "code",
   "execution_count": null,
   "id": "e7ac447d-91d1-4a85-b4c3-12529580db54",
   "metadata": {},
   "outputs": [],
   "source": [
    "meta_dict = {'ATEMP':[273, 290, cm.thermal, '$^{\\circ}$C'],\n",
    "             'AQH':[0, 0.025, cm.tempo, 'kg/kg'],\n",
    "             'PRECIP':[0, 1e-6, cm.tempo, 'm/s'],\n",
    "             'SWDOWN':[-10,20,cm.solar,'W/m$^2$'],\n",
    "             'LWDOWN':[-100, 500,cm.solar,'W/m$^2$'],\n",
    "             'UWIND':[-20, 20, cm.balance, 'm/s'],\n",
    "             'VWIND':[-20, 20, cm.balance, 'm/s'],\n",
    "             'RUNOFF':[0, 2e-8, cm.tempo, 'm/s']}"
   ]
  },
  {
   "cell_type": "markdown",
   "id": "5c60e704-57ae-4d35-aca8-2dbc8ad5f84a",
   "metadata": {},
   "source": [
    "Then, I'll create all of the subplots:"
   ]
  },
  {
   "cell_type": "code",
   "execution_count": null,
   "id": "bd252056-d8e7-4cce-a50d-43e20b50c301",
   "metadata": {},
   "outputs": [],
   "source": [
    "fig = plt.figure(figsize=(8,10))\n",
    "gs = GridSpec(4, 2, wspace=0.4, hspace=0.03, \n",
    "              left=0.11, right=0.9, top=0.95, bottom=0.05)\n",
    "\n",
    "\n",
    "for i in range(len(variable_names)):\n",
    "    variable_name = variable_names[i]\n",
    "    \n",
    "    CA_exf_grid = np.fromfile(os.path.join(input_dir,'exf',variable_name+'_'+str(year)),'>f4')\n",
    "    CA_exf_grid = CA_exf_grid.reshape((np.shape(exf_grid)[0],np.shape(XC)[0], np.shape(XC)[1]))\n",
    "\n",
    "    # choose just the first timestep for plotting\n",
    "    CA_exf_grid = CA_exf_grid[0, :, :]\n",
    "    \n",
    "    ax1 = fig.add_subplot(gs[i])\n",
    "    C = plt.pcolormesh(XC, YC, CA_exf_grid,\n",
    "                       vmin=meta_dict[variable_names[i]][0],\n",
    "                       vmax=meta_dict[variable_names[i]][1],\n",
    "                       cmap=meta_dict[variable_names[i]][2])\n",
    "    plt.colorbar(C, label=variable_names[i]+' ('+meta_dict[variable_names[i]][3]+')',fraction=0.026)\n",
    "\n",
    "    if i<5:\n",
    "        plt.gca().set_xticklabels([])\n",
    "    else:\n",
    "        plt.gca().set_xlabel('Longitude')\n",
    "    if i%2==1:\n",
    "        plt.gca().set_yticklabels([])\n",
    "    if i==7:\n",
    "        plt.gca().axis('off')\n",
    "    if i==2:\n",
    "        plt.gca().set_ylabel('Latitude')\n",
    "\n",
    "plt.show()"
   ]
  },
  {
   "cell_type": "markdown",
   "id": "c09ea7f2-2254-47f8-989b-04990088b89a",
   "metadata": {},
   "source": [
    "Looks good! Only one more step and then we're ready to run the model."
   ]
  }
 ],
 "metadata": {
  "kernelspec": {
   "display_name": "mitgcm",
   "language": "python",
   "name": "mitgcm"
  },
  "language_info": {
   "codemirror_mode": {
    "name": "ipython",
    "version": 3
   },
   "file_extension": ".py",
   "mimetype": "text/x-python",
   "name": "python",
   "nbconvert_exporter": "python",
   "pygments_lexer": "ipython3",
   "version": "3.10.10"
  }
 },
 "nbformat": 4,
 "nbformat_minor": 5
}
